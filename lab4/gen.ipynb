{
 "cells": [
  {
   "cell_type": "code",
   "execution_count": 8,
   "metadata": {},
   "outputs": [],
   "source": [
    "import numpy as np\n",
    "import subprocess\n",
    "from random import randrange\n",
    "import random"
   ]
  },
  {
   "cell_type": "code",
   "execution_count": 2,
   "metadata": {},
   "outputs": [
    {
     "name": "stdout",
     "output_type": "stream",
     "text": [
      "ans.txt  gen.ipynb\t loop_tests  main.cu\t  prof.cu  thrust.cu\n",
      "a.out\t lab4_viktor.cu  main.cpp    main.cu.asc  tests    tmp.txt\n"
     ]
    }
   ],
   "source": [
    "!ls"
   ]
  },
  {
   "cell_type": "code",
   "execution_count": 3,
   "metadata": {},
   "outputs": [
    {
     "data": {
      "text/plain": [
       "array([[2, 2, 3],\n",
       "       [5, 5, 6]])"
      ]
     },
     "execution_count": 3,
     "metadata": {},
     "output_type": "execute_result"
    }
   ],
   "source": [
    "a = np.array([[1, 2, 3],\n",
    "              [4, 5, 6]])\n",
    "\n",
    "a[:, [0, 1]] = a[:, [1, 1]]\n",
    "a"
   ]
  },
  {
   "cell_type": "code",
   "execution_count": 22,
   "metadata": {},
   "outputs": [
    {
     "name": "stdout",
     "output_type": "stream",
     "text": [
      "73 \n",
      "\n",
      "55 \n",
      "\n",
      "66 \n",
      "\n",
      "52 \n",
      "\n",
      "WA\n",
      "\n",
      "49   52\n"
     ]
    }
   ],
   "source": [
    "n = 200\n",
    "m = 200\n",
    "\n",
    "while True:\n",
    "\n",
    "    matrix = (100*np.random.random((n, m)))\n",
    "    # matrix = (2*np.random.random((n, m))).astype(int)\n",
    "    ans = np.linalg.matrix_rank(matrix, 0.0000001)\n",
    "\n",
    "    rand_copies = randrange(3*n)\n",
    "    for i in range(rand_copies):\n",
    "        rand_index1 = randrange(n)\n",
    "        rand_index2 = randrange(n)\n",
    "        matrix[rand_index1] = random.uniform(1, 10)*matrix[rand_index2]\n",
    "    rand_copies = randrange(3*m)\n",
    "    for j in range(rand_copies):\n",
    "        rand_index1 = randrange(m)\n",
    "        rand_index2 = randrange(m)\n",
    "        matrix[:, [rand_index1, rand_index2]] = matrix[:, [rand_index1, rand_index1]]\n",
    "\n",
    "    with open(f'tmp.txt', 'w') as fp:\n",
    "        fp.write(str(n)+' ')\n",
    "        fp.write(str(m)+ '\\n')\n",
    "        for i in range(n):\n",
    "            for j in range(m):\n",
    "                fp.write(str(matrix[i, j])+' ')\n",
    "            fp.write('\\n')\n",
    "\n",
    "    !./a.out < tmp.txt > ans.txt\n",
    "\n",
    "    with open(f'ans.txt', 'r') as fp:\n",
    "        ans = int(fp.read())\n",
    "        true_ans = np.linalg.matrix_rank(matrix, 1e-7)\n",
    "        print(true_ans, '\\n')\n",
    "        if ans == true_ans:\n",
    "            pass\n",
    "        else:\n",
    "            print(\"WA\\n\")\n",
    "            print(ans, ' ', true_ans)\n",
    "            break\n",
    "\n",
    "    n, m = n, m"
   ]
  },
  {
   "cell_type": "code",
   "execution_count": null,
   "metadata": {},
   "outputs": [],
   "source": []
  },
  {
   "cell_type": "code",
   "execution_count": null,
   "metadata": {},
   "outputs": [],
   "source": []
  }
 ],
 "metadata": {
  "kernelspec": {
   "display_name": "Python 3.10.4 64-bit",
   "language": "python",
   "name": "python3"
  },
  "language_info": {
   "codemirror_mode": {
    "name": "ipython",
    "version": 3
   },
   "file_extension": ".py",
   "mimetype": "text/x-python",
   "name": "python",
   "nbconvert_exporter": "python",
   "pygments_lexer": "ipython3",
   "version": "3.10.4"
  },
  "orig_nbformat": 4,
  "vscode": {
   "interpreter": {
    "hash": "916dbcbb3f70747c44a77c7bcd40155683ae19c65e1c03b4aa3499c5328201f1"
   }
  }
 },
 "nbformat": 4,
 "nbformat_minor": 2
}
